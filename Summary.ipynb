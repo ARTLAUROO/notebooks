{
 "cells": [
  {
   "cell_type": "code",
   "execution_count": 8,
   "metadata": {
    "collapsed": true
   },
   "outputs": [],
   "source": [
    "%matplotlib inline\n",
    "\n",
    "import sklearn as sk\n",
    "import numpy as np\n",
    "import matplotlib.pyplot as plt"
   ]
  },
  {
   "cell_type": "markdown",
   "metadata": {},
   "source": [
    "## General.\n",
    "- _(Un)supervised learning_: data set with(out) known labels."
   ]
  },
  {
   "cell_type": "markdown",
   "metadata": {},
   "source": [
    "## Naive Bayes.\n",
    "$p(a\\mid b) = \\frac{p(b\\mid a)p(a)}{p(b)=p(b\\mid a)p(a)+p(b)+p(b\\mid \\neg a)p(\\neg a)}$\n",
    "\n",
    "- Naive because it assumes the variables ($a$ and $b$) to be independent.\n",
    "- In case of more variables extend $p(b) = \\dots$.\n",
    "\n",
    "Used for.\n",
    "- Class prediction.\n",
    "- Text classification.\n",
    "- (Un)supervised learning.\n",
    "\n",
    "Strengths.\n",
    "- Easy, fast, simple.\n",
    "- Requires little data.\n",
    "\n",
    "Weaknesses.\n",
    "- Assumes independence.\n",
    "- Cannot handle new unseen features. This can be countered by using Laplace smoothing however (assume equal prob. for all, deviate from that using training data)."
   ]
  },
  {
   "cell_type": "markdown",
   "metadata": {},
   "source": [
    "## Support vector machines (SVMs)."
   ]
  },
  {
   "cell_type": "markdown",
   "metadata": {},
   "source": [
    "## Decision trees."
   ]
  },
  {
   "cell_type": "markdown",
   "metadata": {},
   "source": [
    "## Datasets and questions.\n",
    "Accuracy vs training set.\n",
    "- More data increases accuracy, but it approaches a limit.\n",
    "- More data is better than a fine tuned algorithm.\n",
    "\n",
    "Data types.\n",
    "- Quantative (numerical).\n",
    "- Qualitative (categorical).\n",
    "- Time series.\n",
    "- Text.\n",
    "\n",
    "Using data from different sources can make life hard. If for example data from source A contains a lot of Nans, a algorithm might classify a new example with a Nan to source A. While this might be entirely unjustified."
   ]
  },
  {
   "cell_type": "markdown",
   "metadata": {},
   "source": [
    "## Regressions.\n",
    "_Continuous supervised learning_: regression problem ($y=ax+b)$. Minimization of the sum of the squared errors. \n",
    "- Algorithms: gradient descent, ordinary least squares.\n",
    "- Squared values instead of absolute values are used, else multiple lines could be selected.\n",
    "- Adding more data points increases the sum of squared errors. Therefore use $0.0<r^{2}<1.0$, which tells you how much of a change in $y$ can be explained by a change in $x$. Closer to $1.0$ is better."
   ]
  },
  {
   "cell_type": "code",
   "execution_count": 121,
   "metadata": {
    "collapsed": false,
    "scrolled": false
   },
   "outputs": [
    {
     "name": "stdout",
     "output_type": "stream",
     "text": [
      "## Estimation ##\n",
      "slope/a     estimated:[[ 0.29512126]] actual:0.3\n",
      "intercept/b estimated:[ 0.1030284] actual:0.1\n",
      "\n",
      "## Train stats ##\n",
      "r-squared score: 0.907827534355\n",
      "\n",
      "## Test stats ##\n",
      "r-squared score: 0.825489499487\n",
      "Mean squared error: 0.00\n",
      "Variance score: 0.83\n"
     ]
    },
    {
     "data": {
      "image/png": "[encoded data removed]",
      "text/plain": [
       "<matplotlib.figure.Figure at 0x7fb834a781d0>"
      ]
     },
     "metadata": {},
     "output_type": "display_data"
    }
   ],
   "source": [
    "# Variables to estimate.\n",
    "a = 0.3\n",
    "b = 0.1\n",
    "\n",
    "# Added noise params.\n",
    "m = 0\n",
    "s = .03\n",
    "\n",
    "# Train data.\n",
    "n_train = 20\n",
    "x_train = np.linspace(0, 1, n_train)\n",
    "noise_train = np.random.normal(m, s, n_train)\n",
    "y_train = a * x_train + b + noise_train\n",
    "\n",
    "# Test data.\n",
    "n_test = 10\n",
    "x_test = np.linspace(0, 1, n_test)\n",
    "noise_test = np.random.normal(m, s, n_test)\n",
    "y_test = a * x_test + b + noise_test\n",
    "\n",
    "# Transform data into sklearn format.\n",
    "x_test = np.reshape(x_test, (-1, 1))\n",
    "y_test = np.reshape(y_test, (-1, 1))\n",
    "x_train = np.reshape(x_train, (-1, 1))\n",
    "y_train = np.reshape(y_train, (-1, 1))\n",
    "\n",
    "# Regression.\n",
    "from sklearn import linear_model\n",
    "regr = linear_model.LinearRegression()\n",
    "regr.fit(x_train, y_train)\n",
    "\n",
    "# Estimated params.\n",
    "print('## Estimation ##')\n",
    "print(\"slope/a     estimated:{} actual:{}\".format(regr.coef_, a))\n",
    "print(\"intercept/b estimated:{} actual:{}\".format(regr.intercept_, b))\n",
    "\n",
    "# Stats on train set.\n",
    "print('\\n## Train stats ##')\n",
    "print(\"r-squared score: {}\".format(regr.score(x_train, y_train)))\n",
    "\n",
    "# Stats on test set.\n",
    "print('\\n## Test stats ##')\n",
    "print(\"r-squared score: {}\".format(regr.score(x_test, y_test)))\n",
    "print(\"Mean squared error: %.2f\" % np.mean((regr.predict(x_test) - y_test) ** 2))\n",
    "print('Variance score: %.2f' % regr.score(x_test, y_test))\n",
    "\n",
    "# Plots\n",
    "fig, axes = plt.subplots(1, 1)\n",
    "axes.scatter(x_train, y_train, color='b', label='train')\n",
    "axes.scatter(x_test, y_test, color='r', label='test')\n",
    "axes.plot(x_test, regr.predict(x_test), color='g', label='y=ax+b', linewidth=3)\n",
    "axes.legend(loc=2);"
   ]
  },
  {
   "cell_type": "markdown",
   "metadata": {},
   "source": [
    "Classification vs regression\n",
    "- output: discrete - continuous\n",
    "- objective: decision boundary - best fit line\n",
    "- evaluation: accuracy - sum of squared errors/$r^{2}$\n",
    "\n",
    "_Multivariate regression_: uses multiple input variables. For example $y=a_{0}x_{0}+a_{1}x_{1}+b$.\n",
    "\n",
    "Outlier removal.\n",
    "1. Train\n",
    "1. Remove (10%) points having the largest (residual) error.\n",
    "1. Repeat until done."
   ]
  },
  {
   "cell_type": "code",
   "execution_count": 127,
   "metadata": {
    "collapsed": false
   },
   "outputs": [
    {
     "name": "stdout",
     "output_type": "stream",
     "text": [
      "\n",
      "## Train stats with outlier. ##\n",
      "r-squared score: 0.0848901934373\n",
      "\n",
      "## Train stats without outlier. ##\n",
      "r-squared score: 0.916459574753\n"
     ]
    },
    {
     "data": {
      "image/png": "[encoded data removed]",
      "text/plain": [
       "<matplotlib.figure.Figure at 0x7fb834e29410>"
      ]
     },
     "metadata": {},
     "output_type": "display_data"
    },
    {
     "data": {
      "image/png": "[encoded data removed]",
      "text/plain": [
       "<matplotlib.figure.Figure at 0x7fb835291d90>"
      ]
     },
     "metadata": {},
     "output_type": "display_data"
    }
   ],
   "source": [
    "# Add outliers.\n",
    "y_train[9][0] = 3\n",
    "regr.fit(x_train, y_train)\n",
    "\n",
    "# Stats on train set.\n",
    "print('\\n## Train stats with outlier. ##')\n",
    "print(\"r-squared score: {}\".format(regr.score(x_train, y_train)))\n",
    "\n",
    "# Plots\n",
    "fig, axes = plt.subplots(1, 1)\n",
    "axes.scatter(x_train, y_train, color='b', label='train')\n",
    "axes.scatter(x_test, y_test, color='r', label='test')\n",
    "axes.plot(x_test, regr.predict(x_test), color='g', label='y=ax+b', linewidth=3)\n",
    "axes.set_title('With outlier.')\n",
    "axes.legend(loc=2);\n",
    "\n",
    "# Find and delete largest error.\n",
    "predictions = regr.predict(x_train)\n",
    "max_diff = 0\n",
    "idx = -1\n",
    "for i in range(len(predictions)):\n",
    "    diff = abs(predictions[i][0] - y_train[i])\n",
    "    if diff > max_diff:\n",
    "        max_diff = diff\n",
    "        idx = i\n",
    "\n",
    "x_train = np.reshape(np.delete(x_train, idx), (-1, 1))\n",
    "y_train = np.reshape(np.delete(y_train, idx), (-1, 1))\n",
    "regr.fit(x_train, y_train)\n",
    "\n",
    "# Stats on train set.\n",
    "print('\\n## Train stats without outlier. ##')\n",
    "print(\"r-squared score: {}\".format(regr.score(x_train, y_train)))\n",
    "\n",
    "# Plots\n",
    "fig, axes = plt.subplots(1, 1)\n",
    "axes.scatter(x_train, y_train, color='b', label='train')\n",
    "axes.scatter(x_test, y_test, color='r', label='test')\n",
    "axes.plot(x_test, regr.predict(x_test), color='g', label='y=ax+b', linewidth=3)\n",
    "axes.set_title('Without outlier.')\n",
    "axes.legend(loc=2);"
   ]
  },
  {
   "cell_type": "markdown",
   "metadata": {},
   "source": [
    "## Clustering\n",
    "Unsupervised learning.\n",
    "- Clustering. This section.\n",
    "- Dimensionality reduction. Later section.\n",
    "\n",
    "K-means.\n",
    "1. Assign. Assign all points to the closest k-point.\n",
    "1. Optimize. Center all k-points with respect to their assigned data points.\n",
    "1. Repeat until no (significant) change in the k-points happens.\n",
    "\n",
    "Limitations.\n",
    "- Different seeds can lead to different outcomes.\n",
    "- Number of centroids matters. Else points (do not) get clustered together while they should (not).\n",
    "- Symmetric clusters can be divided in half, and assigning each half to a different cluster. Even if number of centroids is correct."
   ]
  },
  {
   "cell_type": "code",
   "execution_count": 274,
   "metadata": {
    "collapsed": true
   },
   "outputs": [],
   "source": [
    "n = 100\n",
    "\n",
    "# Create data.\n",
    "def create_cluster(center=0, width=1, n=100):\n",
    "    x = np.random.normal(center, width, n)\n",
    "    y = np.random.normal(0, width, n)\n",
    "    return x, y\n",
    "x_a, y_a = create_cluster(center=0, width=1, n=n)\n",
    "x_b, y_b = create_cluster(center=6, width=1, n=n)"
   ]
  },
  {
   "cell_type": "code",
   "execution_count": 275,
   "metadata": {
    "collapsed": false
   },
   "outputs": [
    {
     "data": {
      "image/png": "[encoded data removed]",
      "text/plain": [
       "<matplotlib.figure.Figure at 0x7fb82e7d04d0>"
      ]
     },
     "metadata": {},
     "output_type": "display_data"
    },
    {
     "data": {
      "image/png": "[encoded data removed]",
      "text/plain": [
       "<matplotlib.figure.Figure at 0x7fb8303902d0>"
      ]
     },
     "metadata": {},
     "output_type": "display_data"
    }
   ],
   "source": [
    "# !!!!!\n",
    "# Scaling is important. If below is uncommented than clusters are \n",
    "# solely based on y values.\n",
    "# !!!!!\n",
    "# y_a *= 2000\n",
    "# y_b *= 2000\n",
    "\n",
    "x = np.concatenate([x_a, x_b])\n",
    "y = np.concatenate([y_a, y_b])\n",
    "X = np.transpose(np.array([x, y]))\n",
    "\n",
    "# Plot data.\n",
    "fig, ax = plt.subplots(1, 1)\n",
    "ax.scatter(x_a, y_a, color='b', label='a')\n",
    "ax.scatter(x_b, y_b, color='r', label='b')\n",
    "ax.legend(loc=2)\n",
    "ax.set_title('Data clusters.')\n",
    "\n",
    "# Fit k-means.\n",
    "from sklearn.cluster import KMeans\n",
    "kmeans = KMeans(n_clusters=2)\n",
    "pred_mask = kmeans.fit_predict(X)\n",
    "pred_mask = pred_mask.astype(np.bool)\n",
    "pred_mask_a = pred_mask\n",
    "pred_mask_b = np.invert(pred_mask)\n",
    "\n",
    "# Plot predictions.\n",
    "fig, ax = plt.subplots(1, 1)\n",
    "ax.scatter(X[pred_mask_a, 0], X[pred_mask_a, 1], color='g', label='1')\n",
    "ax.scatter(X[pred_mask_b, 0], X[pred_mask_b, 1], color='brown', label='2')\n",
    "ax.legend(loc=2)\n",
    "ax.set_title('Predictions.');"
   ]
  },
  {
   "cell_type": "markdown",
   "metadata": {},
   "source": [
    "## Feature scaling.\n",
    "Affected algorithms.\n",
    "- SVM with RBF kernel\n",
    "- K-means clustering\n",
    "\n",
    "Unaffected algorithms.\n",
    "- Decision trees (because of vertical/horizontal decision boundaries).\n",
    "- Linear regression (Just scales the a, b)."
   ]
  },
  {
   "cell_type": "markdown",
   "metadata": {},
   "source": [
    "## Text learning.\n",
    "**Bag of words** lists all words with a frequency count for each.\n",
    "- Word order does not matter.\n",
    "- Combined words are treated separately.\n",
    "- High frequency words have typically low information.\n",
    "- Words having the same 'stem' ((un)resonsive), can be combined with a stemmer. This groups words with (almost) the same meaning.\n",
    "**Tf-idf**\n",
    "- Term frequence (bag of words) rates common words high.\n",
    "- Inverse document frequence rates rare words high.\n",
    "- Tf-idf = tf * idf. Rates uncommen words that occur often in a document the highest."
   ]
  },
  {
   "cell_type": "code",
   "execution_count": 277,
   "metadata": {
    "collapsed": false
   },
   "outputs": [
    {
     "name": "stdout",
     "output_type": "stream",
     "text": [
      "i\n"
     ]
    }
   ],
   "source": [
    "from nltk.corpus import stopwords\n",
    "sw = stopwords.words(\"english\")\n",
    "print sw[0]"
   ]
  },
  {
   "cell_type": "markdown",
   "metadata": {},
   "source": [
    "## Feature selection.\n",
    "- Select best features.\n",
    "- Generate new features.\n",
    "    1. Intuition.\n",
    "    1. Code.\n",
    "    1. Visualize.\n",
    "    1. Repeat.\n",
    "   \n",
    "Sklearn can select the most powerful features.\n",
    "- SelectPercentile()\n",
    "- SelectKBest()\n",
    "\n",
    "Bias-variance dilemma.\n",
    "- High bias results in a high error on the training (and test) set. Often when too few features are used.\n",
    "- High variance results in a low error on the training set but high on the test set. Often when too many features are used.\n",
    "\n",
    "**Regularization** tries to find the sweet spot between high bias and high variance.\n",
    "- Regression case: **lasso regression** combines SSE with a penalty for each additional feature. If the penalty outweighs the SSE gain it gives, it is omitted.\n",
    "\n",
    "TODO sklearn with lasso"
   ]
  },
  {
   "cell_type": "markdown",
   "metadata": {},
   "source": [
    "## Principal component analysis (PCA).\n",
    "Rotates coordinate system such that some axes contain no or little info.\n",
    "\n",
    "Measurable vs latent variables.\n",
    "- Measurable: direct features.\n",
    "- Latent variables: hidden, but are responsible for the values of the measurable variables.\n",
    "\n",
    "When to use it?\n",
    "- Finding latent features.\n",
    "- Dimensionality reduction.\n",
    "    - Visualization of high dimensional data.\n",
    "    - Noise reduction.\n",
    "    - Other algorithms may work better because less features to overfit to.   And the features are more distinct.\n",
    "\n",
    "Perform PCA before feature selection.\n",
    "\n",
    "What is the difference by regression and PCA?\n",
    "Maybe vertical errors (regr) vs shortest errors (PCA)..?\n",
    "\n",
    "TODO information loss/entropy etc."
   ]
  },
  {
   "cell_type": "markdown",
   "metadata": {},
   "source": [
    "## Validation\n",
    "Cross validation.\n",
    "- K-fold. Averages accuracy.\n",
    "- Use shuffle.\n",
    "- Sklearn can be used.\n",
    "- no pca.fit() on test data. only pca.transform().\n",
    "\n",
    "GridSearchCV for param search."
   ]
  },
  {
   "cell_type": "markdown",
   "metadata": {},
   "source": [
    "## Validation.\n",
    "$Accuracy = \\frac{correctly\\ classified\\ data}{all\\ data}$  \n",
    "- Not good for skewed classes.\n",
    "- Not good if precesion or recall is more important.\n",
    "\n",
    "Confusion matrix.\n",
    "\n",
    "|           | Actual         |                |\n",
    "|-----------|----------------|----------------|\n",
    "| **Predicted** | Positive       | Negative       |\n",
    "| Positive  | True positive  | False positive |\n",
    "| Negative  | False negative | True negative  |\n",
    "\n",
    "Recall vs precision.\n",
    "- Recall: $true\\ positive = \\frac{true\\ positive}{true\\ positive + false\\ negative}$. How many positive items were recalled.\n",
    "- Precision: $true\\ positive = \\frac{true\\ positive}{true\\ positive + false\\ positive}$. From all positive labeled cases, which are indeed positive."
   ]
  },
  {
   "cell_type": "markdown",
   "metadata": {},
   "source": [
    "## Overview.\n",
    "TODO\n",
    "- Dataset/Question.\n",
    "- Features.\n",
    "- Algorithms.\n",
    "- Evaluation."
   ]
  }
 ],
 "metadata": {
  "kernelspec": {
   "display_name": "Python 2",
   "language": "python",
   "name": "python2"
  },
  "language_info": {
   "codemirror_mode": {
    "name": "ipython",
    "version": 2
   },
   "file_extension": ".py",
   "mimetype": "text/x-python",
   "name": "python",
   "nbconvert_exporter": "python",
   "pygments_lexer": "ipython2",
   "version": "2.7.11"
  }
 },
 "nbformat": 4,
 "nbformat_minor": 0
}
